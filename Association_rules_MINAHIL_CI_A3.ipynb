{
  "nbformat": 4,
  "nbformat_minor": 0,
  "metadata": {
    "colab": {
      "provenance": [],
      "authorship_tag": "ABX9TyMisbS4SbRe3dMC7HsDlGIF",
      "include_colab_link": true
    },
    "kernelspec": {
      "name": "python3",
      "display_name": "Python 3"
    },
    "language_info": {
      "name": "python"
    }
  },
  "cells": [
    {
      "cell_type": "markdown",
      "metadata": {
        "id": "view-in-github",
        "colab_type": "text"
      },
      "source": [
        "<a href=\"https://colab.research.google.com/github/MinahilSadiq1/Association_Rule/blob/main/Association_rules_MINAHIL_CI_A3.ipynb\" target=\"_parent\"><img src=\"https://colab.research.google.com/assets/colab-badge.svg\" alt=\"Open In Colab\"/></a>"
      ]
    },
    {
      "cell_type": "code",
      "execution_count": null,
      "metadata": {
        "id": "9WN_9XUZKwdE"
      },
      "outputs": [],
      "source": [
        "!pip install mlxtend  # Install mlxtend library"
      ]
    },
    {
      "cell_type": "code",
      "source": [
        "import pandas as pd\n",
        "from mlxtend.preprocessing import TransactionEncoder\n",
        "from mlxtend.frequent_patterns import apriori, association_rules\n",
        "from google.colab import drive"
      ],
      "metadata": {
        "id": "uYU20NatK1fj"
      },
      "execution_count": null,
      "outputs": []
    },
    {
      "cell_type": "code",
      "source": [
        "# Mount Google Drive\n",
        "drive.mount('/content/drive')\n",
        "\n",
        "# Set the path to your dataset CSV file on Google Drive\n",
        "dataset_path = '/content/drive/MyDrive/dataset appori.csv'"
      ],
      "metadata": {
        "id": "PDAOv-T-LAjR"
      },
      "execution_count": null,
      "outputs": []
    },
    {
      "cell_type": "code",
      "source": [
        "# Read the dataset into a DataFrame\n",
        "df = pd.read_csv(dataset_path)"
      ],
      "metadata": {
        "id": "Fm9cBFIKLG_l"
      },
      "execution_count": null,
      "outputs": []
    },
    {
      "cell_type": "code",
      "source": [
        "# Prepare the dataset for association rule mining\n",
        "transactions = df.groupby(['Transaction'])['Item'].apply(list).tolist()"
      ],
      "metadata": {
        "id": "7Y1EbWnOLNmc"
      },
      "execution_count": null,
      "outputs": []
    },
    {
      "cell_type": "code",
      "source": [
        "# Convert the transaction data into a suitable format\n",
        "te = TransactionEncoder()\n",
        "te_ary = te.fit(transactions).transform(transactions)\n",
        "df_encoded = pd.DataFrame(te_ary, columns=te.columns_)"
      ],
      "metadata": {
        "id": "ON5tXmK-LQaF"
      },
      "execution_count": null,
      "outputs": []
    },
    {
      "cell_type": "code",
      "source": [
        "# Generate frequent itemsets\n",
        "frequent_itemsets = apriori(df_encoded, min_support=0.05, use_colnames=True)\n",
        "\n",
        "#print\n",
        "print(frequent_itemsets);"
      ],
      "metadata": {
        "colab": {
          "base_uri": "https://localhost:8080/"
        },
        "id": "gtkkJ1CbLTus",
        "outputId": "6f569217-d234-462f-db5b-33acde455363"
      },
      "execution_count": null,
      "outputs": [
        {
          "output_type": "stream",
          "name": "stdout",
          "text": [
            "     support         itemsets\n",
            "0   0.327205          (Bread)\n",
            "1   0.103856           (Cake)\n",
            "2   0.478394         (Coffee)\n",
            "3   0.054411        (Cookies)\n",
            "4   0.058320  (Hot chocolate)\n",
            "5   0.061807      (Medialuna)\n",
            "6   0.086107         (Pastry)\n",
            "7   0.071844       (Sandwich)\n",
            "8   0.142631            (Tea)\n",
            "9   0.090016  (Bread, Coffee)\n",
            "10  0.054728   (Cake, Coffee)\n"
          ]
        }
      ]
    },
    {
      "cell_type": "code",
      "source": [
        "# Find association rules based on the frequent item sets\n",
        "association_rules = association_rules(frequent_itemsets, metric=\"confidence\", min_threshold=0.05)\n",
        "\n",
        "#print\n",
        "print(association_rules)"
      ],
      "metadata": {
        "colab": {
          "base_uri": "https://localhost:8080/"
        },
        "id": "VWbLorr8LYhJ",
        "outputId": "258c7049-d513-45f1-a15a-5599034c421f"
      },
      "execution_count": null,
      "outputs": [
        {
          "output_type": "stream",
          "name": "stdout",
          "text": [
            "  antecedents consequents  antecedent support  consequent support   support  \\\n",
            "0     (Bread)    (Coffee)            0.327205            0.478394  0.090016   \n",
            "1    (Coffee)     (Bread)            0.478394            0.327205  0.090016   \n",
            "2      (Cake)    (Coffee)            0.103856            0.478394  0.054728   \n",
            "3    (Coffee)      (Cake)            0.478394            0.103856  0.054728   \n",
            "\n",
            "   confidence      lift  leverage  conviction  \n",
            "0    0.275105  0.575059 -0.066517    0.719561  \n",
            "1    0.188163  0.575059 -0.066517    0.828731  \n",
            "2    0.526958  1.101515  0.005044    1.102664  \n",
            "3    0.114399  1.101515  0.005044    1.011905  \n"
          ]
        }
      ]
    }
  ]
}